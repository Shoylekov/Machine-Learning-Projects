{
  "cells": [
    {
      "cell_type": "code",
      "execution_count": null,
      "metadata": {
        "colab": {
          "base_uri": "https://localhost:8080/"
        },
        "id": "g9DsFQ2kwSgS",
        "outputId": "e4c2ba38-d9e5-4894-f306-665a61d96830"
      },
      "outputs": [
        {
          "name": "stdout",
          "output_type": "stream",
          "text": [
            "Requirement already satisfied: opencv-python in /usr/local/lib/python3.10/dist-packages (4.8.0.76)\n",
            "Requirement already satisfied: numpy>=1.21.2 in /usr/local/lib/python3.10/dist-packages (from opencv-python) (1.25.2)\n",
            "Requirement already satisfied: imgbeddings in /usr/local/lib/python3.10/dist-packages (0.1.0)\n",
            "Requirement already satisfied: transformers>=4.17.0 in /usr/local/lib/python3.10/dist-packages (from imgbeddings) (4.38.2)\n",
            "Requirement already satisfied: onnxruntime>=1.10.0 in /usr/local/lib/python3.10/dist-packages (from imgbeddings) (1.17.3)\n",
            "Requirement already satisfied: Pillow in /usr/local/lib/python3.10/dist-packages (from imgbeddings) (9.4.0)\n",
            "Requirement already satisfied: tqdm in /usr/local/lib/python3.10/dist-packages (from imgbeddings) (4.66.2)\n",
            "Requirement already satisfied: scikit-learn in /usr/local/lib/python3.10/dist-packages (from imgbeddings) (1.2.2)\n",
            "Requirement already satisfied: coloredlogs in /usr/local/lib/python3.10/dist-packages (from onnxruntime>=1.10.0->imgbeddings) (15.0.1)\n",
            "Requirement already satisfied: flatbuffers in /usr/local/lib/python3.10/dist-packages (from onnxruntime>=1.10.0->imgbeddings) (24.3.25)\n",
            "Requirement already satisfied: numpy>=1.21.6 in /usr/local/lib/python3.10/dist-packages (from onnxruntime>=1.10.0->imgbeddings) (1.25.2)\n",
            "Requirement already satisfied: packaging in /usr/local/lib/python3.10/dist-packages (from onnxruntime>=1.10.0->imgbeddings) (24.0)\n",
            "Requirement already satisfied: protobuf in /usr/local/lib/python3.10/dist-packages (from onnxruntime>=1.10.0->imgbeddings) (3.20.3)\n",
            "Requirement already satisfied: sympy in /usr/local/lib/python3.10/dist-packages (from onnxruntime>=1.10.0->imgbeddings) (1.12)\n",
            "Requirement already satisfied: filelock in /usr/local/lib/python3.10/dist-packages (from transformers>=4.17.0->imgbeddings) (3.13.4)\n",
            "Requirement already satisfied: huggingface-hub<1.0,>=0.19.3 in /usr/local/lib/python3.10/dist-packages (from transformers>=4.17.0->imgbeddings) (0.20.3)\n",
            "Requirement already satisfied: pyyaml>=5.1 in /usr/local/lib/python3.10/dist-packages (from transformers>=4.17.0->imgbeddings) (6.0.1)\n",
            "Requirement already satisfied: regex!=2019.12.17 in /usr/local/lib/python3.10/dist-packages (from transformers>=4.17.0->imgbeddings) (2023.12.25)\n",
            "Requirement already satisfied: requests in /usr/local/lib/python3.10/dist-packages (from transformers>=4.17.0->imgbeddings) (2.31.0)\n",
            "Requirement already satisfied: tokenizers<0.19,>=0.14 in /usr/local/lib/python3.10/dist-packages (from transformers>=4.17.0->imgbeddings) (0.15.2)\n",
            "Requirement already satisfied: safetensors>=0.4.1 in /usr/local/lib/python3.10/dist-packages (from transformers>=4.17.0->imgbeddings) (0.4.3)\n",
            "Requirement already satisfied: scipy>=1.3.2 in /usr/local/lib/python3.10/dist-packages (from scikit-learn->imgbeddings) (1.11.4)\n",
            "Requirement already satisfied: joblib>=1.1.1 in /usr/local/lib/python3.10/dist-packages (from scikit-learn->imgbeddings) (1.4.0)\n",
            "Requirement already satisfied: threadpoolctl>=2.0.0 in /usr/local/lib/python3.10/dist-packages (from scikit-learn->imgbeddings) (3.4.0)\n",
            "Requirement already satisfied: fsspec>=2023.5.0 in /usr/local/lib/python3.10/dist-packages (from huggingface-hub<1.0,>=0.19.3->transformers>=4.17.0->imgbeddings) (2023.6.0)\n",
            "Requirement already satisfied: typing-extensions>=3.7.4.3 in /usr/local/lib/python3.10/dist-packages (from huggingface-hub<1.0,>=0.19.3->transformers>=4.17.0->imgbeddings) (4.11.0)\n",
            "Requirement already satisfied: humanfriendly>=9.1 in /usr/local/lib/python3.10/dist-packages (from coloredlogs->onnxruntime>=1.10.0->imgbeddings) (10.0)\n",
            "Requirement already satisfied: charset-normalizer<4,>=2 in /usr/local/lib/python3.10/dist-packages (from requests->transformers>=4.17.0->imgbeddings) (3.3.2)\n",
            "Requirement already satisfied: idna<4,>=2.5 in /usr/local/lib/python3.10/dist-packages (from requests->transformers>=4.17.0->imgbeddings) (3.7)\n",
            "Requirement already satisfied: urllib3<3,>=1.21.1 in /usr/local/lib/python3.10/dist-packages (from requests->transformers>=4.17.0->imgbeddings) (2.0.7)\n",
            "Requirement already satisfied: certifi>=2017.4.17 in /usr/local/lib/python3.10/dist-packages (from requests->transformers>=4.17.0->imgbeddings) (2024.2.2)\n",
            "Requirement already satisfied: mpmath>=0.19 in /usr/local/lib/python3.10/dist-packages (from sympy->onnxruntime>=1.10.0->imgbeddings) (1.3.0)\n",
            "Requirement already satisfied: psycopg2-binary in /usr/local/lib/python3.10/dist-packages (2.9.9)\n"
          ]
        }
      ],
      "source": [
        "!pip install opencv-python\n",
        "!pip install imgbeddings\n",
        "!pip install psycopg2-binary"
      ]
    },
    {
      "cell_type": "code",
      "execution_count": null,
      "metadata": {
        "id": "RT9mTcyhw79s"
      },
      "outputs": [],
      "source": [
        "import cv2\n",
        "\n",
        "alg = \"/content/haarcascade_frontalface_default.xml\"\n",
        "\n",
        "haar_cascade = cv2.CascadeClassifier(alg)\n",
        "\n",
        "file_name = \"/content/kapakoulak.jpg\"\n",
        "\n",
        "img = cv2.imread(file_name, 0)\n",
        "gray_img = cv2.cvtColor(img, cv2.COLOR_RGB2BGR)\n",
        "\n",
        "faces = haar_cascade.detectMultiScale(\n",
        "    gray_img, scaleFactor=1.05, minNeighbors=5, minSize=(100, 100)\n",
        ")\n",
        "i = 0\n",
        "for x, y, w, h in faces:\n",
        "  cropped_image = img[y : y + h, x : x + w]\n",
        "  target_file_name = 'stored_faces/' + str(i) + '.jpg'\n",
        "  cv2.imwrite(\n",
        "      target_file_name,\n",
        "      cropped_image,\n",
        "  )\n",
        "  i = i + 1;"
      ]
    },
    {
      "cell_type": "code",
      "execution_count": null,
      "metadata": {
        "colab": {
          "base_uri": "https://localhost:8080/"
        },
        "id": "V-Ew3HfD0aTL",
        "outputId": "53adf99e-32c0-4c6b-9989-840e9e862852"
      },
      "outputs": [
        {
          "name": "stdout",
          "output_type": "stream",
          "text": [
            "Error processing 0.jpg: duplicate key value violates unique constraint \"pictures_pkey\"\n",
            "DETAIL:  Key (picture)=(0.jpg) already exists.\n",
            "\n"
          ]
        }
      ],
      "source": [
        "import numpy as np\n",
        "from imgbeddings import imgbeddings\n",
        "from PIL import Image\n",
        "import psycopg2\n",
        "import os\n",
        "\n",
        "# Establish a connection to the PostgreSQL database\n",
        "conn = psycopg2.connect(\"PUT YOUR AIVEN CONNECTION HERE!\")\n",
        "cur = conn.cursor()\n",
        "\n",
        "# Create a cursor for executing SQL queries\n",
        "\n",
        "# Iterate through files in the \"stored_faces\" directory\n",
        "for filename in os.listdir(\"stored_faces\"):\n",
        "    filepath = os.path.join(\"stored_faces\", filename)\n",
        "    if os.path.isfile(filepath):  # Check if it's a file\n",
        "        try:\n",
        "            # Open the image file\n",
        "            img = Image.open(filepath)\n",
        "\n",
        "            # Generate embeddings from the image\n",
        "            ibed = imgbeddings()\n",
        "            embedding = ibed.to_embeddings(img)\n",
        "\n",
        "            # Insert filename and embeddings into the database\n",
        "            cur.execute(\"INSERT INTO pictures VALUES (%s, %s)\", (filename, embedding[0].tolist()))\n",
        "\n",
        "            print(f\"Inserted embeddings for {filename}\")\n",
        "        except Exception as e:\n",
        "            print(f\"Error processing {filename}: {e}\")\n",
        "\n",
        "# Commit the transaction and close the cursor\n",
        "conn.commit()\n",
        "cur.close()\n"
      ]
    },
    {
      "cell_type": "code",
      "execution_count": null,
      "metadata": {
        "id": "FStAKc_8ABnh"
      },
      "outputs": [],
      "source": [
        "file_name = \"/content/grizly.jpg\"\n",
        "img = Image.open(file_name)\n",
        "ibed = imgbeddings()\n",
        "embedding = ibed.to_embeddings(img)\n"
      ]
    },
    {
      "cell_type": "code",
      "execution_count": null,
      "metadata": {
        "colab": {
          "base_uri": "https://localhost:8080/",
          "height": 134
        },
        "id": "W7AYCYJgAqjA",
        "outputId": "fafd9b7d-f06b-415c-a131-cb8cbff0895f"
      },
      "outputs": [
        {
          "data": {
            "image/jpeg": "[encoded data removed]",
            "text/plain": [
              "<IPython.core.display.Image object>"
            ]
          },
          "metadata": {},
          "output_type": "display_data"
        }
      ],
      "source": [
        "from IPython.display import Image, display\n",
        "\n",
        "cur = conn.cursor()\n",
        "string_representation = \"[\"+ \",\".join(str(x) for x in embedding[0].tolist()) + \"]\"\n",
        "cur.execute(\"SELECT * FROM pictures ORDER BY embedding <-> %s LIMIT 1;\", (string_representation,))\n",
        "rows = cur.fetchall()\n",
        "for row in rows:\n",
        "  display(Image(filename=\"stored_faces/\"+row[0]))\n",
        "cur.close()"
      ]
    }
  ],
  "metadata": {
    "colab": {
      "provenance": []
    },
    "kernelspec": {
      "display_name": "Python 3",
      "name": "python3"
    },
    "language_info": {
      "name": "python"
    }
  },
  "nbformat": 4,
  "nbformat_minor": 0
}
